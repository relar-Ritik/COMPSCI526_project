{
 "cells": [
  {
   "cell_type": "code",
   "execution_count": 1,
   "id": "bad06fce-68b2-4611-b8fe-617e2cad282f",
   "metadata": {},
   "outputs": [],
   "source": [
    "import numpy as np\n",
    "import pandas as pd\n",
    "import matplotlib.pyplot as plt"
   ]
  },
  {
   "cell_type": "code",
   "execution_count": 2,
   "id": "cd2047da-5f7a-41af-a388-b86ccb32d863",
   "metadata": {},
   "outputs": [],
   "source": [
    "df = pd.read_csv('./master.csv')"
   ]
  },
  {
   "cell_type": "markdown",
   "id": "2442d006-285e-4d4c-b22e-9218e42b7e80",
   "metadata": {},
   "source": [
    "## Checking missing values"
   ]
  },
  {
   "cell_type": "code",
   "execution_count": 3,
   "id": "db566f85-6d53-4235-b549-f8759e98cd1f",
   "metadata": {},
   "outputs": [
    {
     "name": "stdout",
     "output_type": "stream",
     "text": [
      "HDI for year : 19456\n"
     ]
    }
   ],
   "source": [
    "for column_name in df.columns:\n",
    "    num_value_missing =df[column_name].isnull().sum() \n",
    "    if num_value_missing>0:\n",
    "        print(column_name,':', num_value_missing)"
   ]
  },
  {
   "cell_type": "code",
   "execution_count": 4,
   "id": "b45c050e-2e2e-434c-aeb3-5d7a2fe89e8e",
   "metadata": {},
   "outputs": [],
   "source": [
    "import copy\n",
    "countryYr_HDI_dict = {}\n",
    "for country, yr, HDI in df[['country','year','HDI for year']].values:\n",
    "    try:\n",
    "        countryYr_HDI_dict[country][int(yr)] = HDI\n",
    "    except:\n",
    "        countryYr_HDI_dict[country]={}\n",
    "        countryYr_HDI_dict[country][int(yr)] = HDI\n",
    "\n",
    "countryYr_HDI_dict_copy = copy.deepcopy(countryYr_HDI_dict)\n",
    "for country in countryYr_HDI_dict.keys():\n",
    "    temp = [[yr,-1 if str(HDI)=='nan' else HDI] for yr, HDI in countryYr_HDI_dict[country].items()]\n",
    "    temp.sort(key=lambda x:x[0])\n",
    "    temp = np.array(temp)\n",
    "    arg_nonEmpty = np.argwhere(temp[:,1]>0)\n",
    "    if len(arg_nonEmpty)==0:\n",
    "        continue\n",
    "    temp[:arg_nonEmpty[0].item(),1] =temp[arg_nonEmpty.min().item(),1] \n",
    "    temp[arg_nonEmpty[-1].item():,1] =temp[arg_nonEmpty.max().item(),1]\n",
    "    for i,j in zip(arg_nonEmpty[:-1],arg_nonEmpty[1:]):\n",
    "        ii, jj = i.item(), j.item()\n",
    "        temp[ii:jj,1]=np.linspace(temp[ii,1],temp[jj,1],num=(j-i).item()+1)[:-1]\n",
    "    for yr, HDI in temp:\n",
    "        countryYr_HDI_dict[country][int(yr)]=HDI\n"
   ]
  },
  {
   "cell_type": "code",
   "execution_count": 5,
   "id": "7494b8bb-d01b-4e7b-80a4-41f3eb3f55a3",
   "metadata": {},
   "outputs": [],
   "source": [
    "for i in range(len(df)):\n",
    "    country = df['country'].iloc[i]\n",
    "    year = df['year'].iloc[i]\n",
    "    df.at[i,'HDI for year'] = countryYr_HDI_dict[country][year]\n",
    "    \n",
    "df = pd.concat([df, pd.Series(data=df['HDI for year'].isnull().astype('float'),name='MissingHDI')],axis=1)\n",
    "df.fillna(0, inplace=True)"
   ]
  },
  {
   "cell_type": "code",
   "execution_count": 6,
   "id": "647010d0-7ec5-4ab7-8399-1f650a2812c4",
   "metadata": {},
   "outputs": [],
   "source": [
    "df.to_csv('./WHO_Suicide_MissingHDIFixed.csv')"
   ]
  }
 ],
 "metadata": {
  "kernelspec": {
   "display_name": "Python 3 (ipykernel)",
   "language": "python",
   "name": "python3"
  },
  "language_info": {
   "codemirror_mode": {
    "name": "ipython",
    "version": 3
   },
   "file_extension": ".py",
   "mimetype": "text/x-python",
   "name": "python",
   "nbconvert_exporter": "python",
   "pygments_lexer": "ipython3",
   "version": "3.11.9"
  }
 },
 "nbformat": 4,
 "nbformat_minor": 5
}
